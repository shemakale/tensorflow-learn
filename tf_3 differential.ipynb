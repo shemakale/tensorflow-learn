{
 "cells": [
  {
   "cell_type": "markdown",
   "id": "861bab1c",
   "metadata": {},
   "source": [
    "## Автоматическое дифференцирование"
   ]
  },
  {
   "cell_type": "code",
   "execution_count": 45,
   "id": "2837f255",
   "metadata": {},
   "outputs": [],
   "source": [
    "import os\n",
    "os.environ['TF_CPP_MIN_LOG_LEVEL'] = '2'\n",
    "\n",
    "import tensorflow as tf\n",
    "import numpy as np"
   ]
  },
  {
   "cell_type": "markdown",
   "id": "5d7f24d3",
   "metadata": {},
   "source": [
    "### Вычисление значения производной в точке"
   ]
  },
  {
   "cell_type": "markdown",
   "id": "10f2916c",
   "metadata": {},
   "source": [
    "Допустим, нужно вычислить производную функции y = x^2 в точке x=-2"
   ]
  },
  {
   "cell_type": "code",
   "execution_count": 2,
   "id": "5067bae9",
   "metadata": {},
   "outputs": [],
   "source": [
    "x = tf.Variable(-2.0)"
   ]
  },
  {
   "cell_type": "code",
   "execution_count": 3,
   "id": "16e578f0",
   "metadata": {},
   "outputs": [],
   "source": [
    "with tf.GradientTape() as tape: #это называется менеджер контекста\n",
    "    y = x ** 2"
   ]
  },
  {
   "cell_type": "code",
   "execution_count": 4,
   "id": "382cb807",
   "metadata": {},
   "outputs": [
    {
     "data": {
      "text/plain": [
       "<tf.Tensor: shape=(), dtype=float32, numpy=-4.0>"
      ]
     },
     "execution_count": 4,
     "metadata": {},
     "output_type": "execute_result"
    }
   ],
   "source": [
    "df = tape.gradient(y, x)\n",
    "df"
   ]
  },
  {
   "cell_type": "markdown",
   "id": "d1a90184",
   "metadata": {},
   "source": [
    "В tf.GradientTape записываются все промежуточные вычисления. Т.е. создается граф вычислений на основании заданной функции. Метод tape.gradient исполняет обратный проход по графу вычислений и вычисляет значение производной функции y для точки x"
   ]
  },
  {
   "cell_type": "markdown",
   "id": "05122f5f",
   "metadata": {},
   "source": [
    "### Вычисление производной функции от векторов параметров"
   ]
  },
  {
   "cell_type": "markdown",
   "id": "c6b40bfa",
   "metadata": {},
   "source": [
    "Функция:  y = x * w + b,  где w и b - векторы параметров. "
   ]
  },
  {
   "cell_type": "markdown",
   "id": "588d56c7",
   "metadata": {},
   "source": [
    "На основании функции y определим функцию loss = (1/N) * сумма (yi^2)"
   ]
  },
  {
   "cell_type": "markdown",
   "id": "38a6b6f4",
   "metadata": {},
   "source": [
    "Для функции loss будем рассчитывать значения производных по w и b"
   ]
  },
  {
   "cell_type": "markdown",
   "id": "7614fb4e",
   "metadata": {},
   "source": [
    "#### Определяем значения параметров"
   ]
  },
  {
   "cell_type": "code",
   "execution_count": 5,
   "id": "be1b27bb",
   "metadata": {},
   "outputs": [
    {
     "name": "stdout",
     "output_type": "stream",
     "text": [
      "[[ 0.16315922  0.3749139 ]\n",
      " [-0.2832861   0.328028  ]\n",
      " [-0.6768528  -0.91743714]]\n",
      "\n",
      "[0. 0.]\n",
      "\n",
      "[[-2.  1.  3.]]\n"
     ]
    }
   ],
   "source": [
    "w = tf.Variable(tf.random.normal((3, 2))) #в этой точке будет рассчитываться производная\n",
    "b = tf.Variable(tf.zeros(2, dtype=tf.float32)) #и в этой точке будет рассчитываться производная\n",
    "x = tf.Variable([[-2.0, 1.0, 3.0]]) #матрица (1, 3)\n",
    "print(w.numpy(), b.numpy(), x.numpy(), sep='\\n\\n')"
   ]
  },
  {
   "cell_type": "markdown",
   "id": "329fca90",
   "metadata": {},
   "source": [
    "#### Определяем функцию loss"
   ]
  },
  {
   "cell_type": "code",
   "execution_count": 6,
   "id": "09da5d91",
   "metadata": {},
   "outputs": [],
   "source": [
    "with tf.GradientTape() as tape:\n",
    "    y = x @ w + b # матричное умножение x w + смещение b\n",
    "    loss = tf.reduce_mean(y ** 2) #среднее арифметическое квадратов yi-ых"
   ]
  },
  {
   "cell_type": "markdown",
   "id": "86426076",
   "metadata": {},
   "source": [
    "#### Вычисление производных по параметру w и b"
   ]
  },
  {
   "cell_type": "code",
   "execution_count": 7,
   "id": "ea5e9d0a",
   "metadata": {},
   "outputs": [
    {
     "name": "stdout",
     "output_type": "stream",
     "text": [
      "tf.Tensor(\n",
      "[[ 5.2803264  6.3482227]\n",
      " [-2.6401632 -3.1741114]\n",
      " [-7.9204893 -9.522334 ]], shape=(3, 2), dtype=float32)\n",
      "\n",
      "tf.Tensor([-2.6401632 -3.1741114], shape=(2,), dtype=float32)\n"
     ]
    }
   ],
   "source": [
    "df = tape.gradient(loss, [w, b])\n",
    "print (df[0], df[1], sep='\\n\\n')"
   ]
  },
  {
   "cell_type": "markdown",
   "id": "74a0d867",
   "metadata": {},
   "source": [
    "Далее эти значения могут быть использованы, например, для нахождения минимума функции loss"
   ]
  },
  {
   "cell_type": "markdown",
   "id": "f36de1d3",
   "metadata": {},
   "source": [
    "#### Важно! Функция должна зависеть от параметров типа tf.Variable!"
   ]
  },
  {
   "cell_type": "markdown",
   "id": "cd02faf6",
   "metadata": {},
   "source": [
    "#### Для параметров типа tf.constant производная не будет рассчитываться (будет None)"
   ]
  },
  {
   "cell_type": "markdown",
   "id": "f4e99cef",
   "metadata": {},
   "source": [
    "Вот пример"
   ]
  },
  {
   "cell_type": "code",
   "execution_count": 8,
   "id": "7bf3c902",
   "metadata": {},
   "outputs": [],
   "source": [
    "x = tf.Variable(0, dtype=tf.float32)\n",
    "b = tf.constant(1.5)\n",
    "with tf.GradientTape() as tape:\n",
    "    f = (x + b) ** 2 + 2 * b # посчитаем производную для f в точка x и b"
   ]
  },
  {
   "cell_type": "code",
   "execution_count": 9,
   "id": "2ca748dd",
   "metadata": {},
   "outputs": [
    {
     "name": "stdout",
     "output_type": "stream",
     "text": [
      "tf.Tensor(3.0, shape=(), dtype=float32)\n",
      "\n",
      "None\n"
     ]
    }
   ],
   "source": [
    "df = tape.gradient(f, [x, b])\n",
    "print (df[0], df[1], sep='\\n\\n')"
   ]
  },
  {
   "cell_type": "markdown",
   "id": "02cc8bb7",
   "metadata": {},
   "source": [
    "GradientTape не производит вычислений для объектов типа константа"
   ]
  },
  {
   "cell_type": "markdown",
   "id": "3b4d85f8",
   "metadata": {},
   "source": [
    "#### Запрет на вычисление производных по переменным (trainable=False)"
   ]
  },
  {
   "cell_type": "code",
   "execution_count": 10,
   "id": "612c05d5",
   "metadata": {},
   "outputs": [],
   "source": [
    "x = tf.Variable(0, dtype=tf.float32, trainable=False)\n",
    "b = tf.Variable(1.5)\n",
    "with tf.GradientTape() as tape:\n",
    "    f = (x + b) ** 2 + 2 * b"
   ]
  },
  {
   "cell_type": "code",
   "execution_count": 11,
   "id": "2cc493c8",
   "metadata": {},
   "outputs": [
    {
     "name": "stdout",
     "output_type": "stream",
     "text": [
      "None\n",
      "\n",
      "tf.Tensor(5.0, shape=(), dtype=float32)\n"
     ]
    }
   ],
   "source": [
    "df = tape.gradient(f, [x, b])\n",
    "print (df[0], df[1], sep='\\n\\n')"
   ]
  },
  {
   "cell_type": "markdown",
   "id": "815e5f2c",
   "metadata": {},
   "source": [
    "Таким образом, мы не вносим данные по x в объект tape"
   ]
  },
  {
   "cell_type": "markdown",
   "id": "6d87cce6",
   "metadata": {},
   "source": [
    "#### При сложении тензоров-переменных с константами, они превращаются в константы"
   ]
  },
  {
   "cell_type": "code",
   "execution_count": 12,
   "id": "f13ed150",
   "metadata": {},
   "outputs": [],
   "source": [
    "x = tf.Variable(0, dtype=tf.float32, trainable=False)\n",
    "b = tf.Variable(1.5) + 1.0 # прибавим число\n",
    "with tf.GradientTape() as tape:\n",
    "    f = (x + b) ** 2 + 2 * b"
   ]
  },
  {
   "cell_type": "code",
   "execution_count": 13,
   "id": "2d61ead0",
   "metadata": {},
   "outputs": [
    {
     "name": "stdout",
     "output_type": "stream",
     "text": [
      "None\n",
      "\n",
      "None\n"
     ]
    }
   ],
   "source": [
    "df = tape.gradient(f, [x, b])\n",
    "print (df[0], df[1], sep='\\n\\n')"
   ]
  },
  {
   "cell_type": "markdown",
   "id": "bccabcbe",
   "metadata": {},
   "source": [
    "#### Отслеживание переменных"
   ]
  },
  {
   "cell_type": "markdown",
   "id": "6200ab11",
   "metadata": {},
   "source": [
    "При реализации GradientTape можно задавать, какие переменные нужно отслеживать. В обучении нейросетей участвует множество переменных, поэтому это занимает много времени и ресурсов. Важно задавать, какие переменные нужны для расчетов, а каие нет"
   ]
  },
  {
   "cell_type": "code",
   "execution_count": 14,
   "id": "895bcc22",
   "metadata": {},
   "outputs": [],
   "source": [
    "# tf.GradientTape(watch_accessed_variables=False) отключает отслеживание всех переменных"
   ]
  },
  {
   "cell_type": "code",
   "execution_count": 19,
   "id": "aadb8a23",
   "metadata": {},
   "outputs": [],
   "source": [
    "x = tf.Variable(2, dtype=tf.float32, trainable=False)\n",
    "b = tf.Variable(-1.5)\n",
    "with tf.GradientTape(watch_accessed_variables=False) as tape:\n",
    "    tape.watch(x) #отслеживаем только переменную x\n",
    "    f = x ** 3 + b * x\n",
    "df = tape.gradient(f, [x, b])"
   ]
  },
  {
   "cell_type": "code",
   "execution_count": 20,
   "id": "f801ec39",
   "metadata": {},
   "outputs": [
    {
     "name": "stdout",
     "output_type": "stream",
     "text": [
      "tf.Tensor(10.5, shape=(), dtype=float32)\n",
      "None\n"
     ]
    }
   ],
   "source": [
    "print (df[0], df[1], sep='\\n')"
   ]
  },
  {
   "cell_type": "markdown",
   "id": "f955c06b",
   "metadata": {},
   "source": [
    "Производная посчиталась только для переменной, которую задали для отслеживания в контекстном менеджере (конструкция with.. as..)"
   ]
  },
  {
   "cell_type": "markdown",
   "id": "37eac224",
   "metadata": {},
   "source": [
    "Если мы отслеживаем переменную x, а от нее зависит другая переменная y, и нужно посчитать производную функции f по y, то tensorflow включит y в отслеживание и посчитает производную по  y"
   ]
  },
  {
   "cell_type": "code",
   "execution_count": 21,
   "id": "d3b76655",
   "metadata": {},
   "outputs": [],
   "source": [
    "x = tf.Variable(1, dtype=tf.float32, trainable=False)\n",
    "with tf.GradientTape(watch_accessed_variables=False) as tape:\n",
    "    tape.watch(x)\n",
    "    y = 2 * x\n",
    "    f = y * y\n",
    "df = tape.gradient(f, y)"
   ]
  },
  {
   "cell_type": "code",
   "execution_count": 23,
   "id": "25284af0",
   "metadata": {},
   "outputs": [
    {
     "name": "stdout",
     "output_type": "stream",
     "text": [
      "tf.Tensor(4.0, shape=(), dtype=float32)\n"
     ]
    }
   ],
   "source": [
    "print(df)"
   ]
  },
  {
   "cell_type": "markdown",
   "id": "667041db",
   "metadata": {},
   "source": [
    "#### Объект tf.GradientTape нельзя просто так вызывать подряд"
   ]
  },
  {
   "cell_type": "code",
   "execution_count": 24,
   "id": "4b75e4b0",
   "metadata": {},
   "outputs": [
    {
     "ename": "RuntimeError",
     "evalue": "A non-persistent GradientTape can only be used to compute one set of gradients (or jacobians)",
     "output_type": "error",
     "traceback": [
      "\u001b[1;31m---------------------------------------------------------------------------\u001b[0m",
      "\u001b[1;31mRuntimeError\u001b[0m                              Traceback (most recent call last)",
      "\u001b[1;32m~\\AppData\\Local\\Temp/ipykernel_10188/2788332167.py\u001b[0m in \u001b[0;36m<module>\u001b[1;34m\u001b[0m\n\u001b[0;32m      5\u001b[0m     \u001b[0mf\u001b[0m \u001b[1;33m=\u001b[0m \u001b[0my\u001b[0m \u001b[1;33m*\u001b[0m \u001b[0my\u001b[0m\u001b[1;33m\u001b[0m\u001b[1;33m\u001b[0m\u001b[0m\n\u001b[0;32m      6\u001b[0m \u001b[0mdf\u001b[0m \u001b[1;33m=\u001b[0m \u001b[0mtape\u001b[0m\u001b[1;33m.\u001b[0m\u001b[0mgradient\u001b[0m\u001b[1;33m(\u001b[0m\u001b[0mf\u001b[0m\u001b[1;33m,\u001b[0m \u001b[0my\u001b[0m\u001b[1;33m)\u001b[0m\u001b[1;33m\u001b[0m\u001b[1;33m\u001b[0m\u001b[0m\n\u001b[1;32m----> 7\u001b[1;33m \u001b[0mdf\u001b[0m \u001b[1;33m=\u001b[0m \u001b[0mtape\u001b[0m\u001b[1;33m.\u001b[0m\u001b[0mgradient\u001b[0m\u001b[1;33m(\u001b[0m\u001b[0mf\u001b[0m\u001b[1;33m,\u001b[0m \u001b[0mx\u001b[0m\u001b[1;33m)\u001b[0m\u001b[1;33m\u001b[0m\u001b[1;33m\u001b[0m\u001b[0m\n\u001b[0m",
      "\u001b[1;32mc:\\python\\neironet\\venv\\lib\\site-packages\\tensorflow\\python\\eager\\backprop.py\u001b[0m in \u001b[0;36mgradient\u001b[1;34m(self, target, sources, output_gradients, unconnected_gradients)\u001b[0m\n\u001b[0;32m   1030\u001b[0m     \"\"\"\n\u001b[0;32m   1031\u001b[0m     \u001b[1;32mif\u001b[0m \u001b[0mself\u001b[0m\u001b[1;33m.\u001b[0m\u001b[0m_tape\u001b[0m \u001b[1;32mis\u001b[0m \u001b[1;32mNone\u001b[0m\u001b[1;33m:\u001b[0m\u001b[1;33m\u001b[0m\u001b[1;33m\u001b[0m\u001b[0m\n\u001b[1;32m-> 1032\u001b[1;33m       raise RuntimeError(\"A non-persistent GradientTape can only be used to \"\n\u001b[0m\u001b[0;32m   1033\u001b[0m                          \"compute one set of gradients (or jacobians)\")\n\u001b[0;32m   1034\u001b[0m     \u001b[1;32mif\u001b[0m \u001b[0mself\u001b[0m\u001b[1;33m.\u001b[0m\u001b[0m_recording\u001b[0m\u001b[1;33m:\u001b[0m\u001b[1;33m\u001b[0m\u001b[1;33m\u001b[0m\u001b[0m\n",
      "\u001b[1;31mRuntimeError\u001b[0m: A non-persistent GradientTape can only be used to compute one set of gradients (or jacobians)"
     ]
    }
   ],
   "source": [
    "x = tf.Variable(1, dtype=tf.float32, trainable=False)\n",
    "with tf.GradientTape(watch_accessed_variables=False) as tape:\n",
    "    tape.watch(x)\n",
    "    y = 2 * x\n",
    "    f = y * y\n",
    "df = tape.gradient(f, y)\n",
    "df = tape.gradient(f, x)"
   ]
  },
  {
   "cell_type": "markdown",
   "id": "1cd60c64",
   "metadata": {},
   "source": [
    "Дело в том, что когда в первый раз вызывается метод tape.gradient, он высвобождает все ресурсы, и второй раз его нельзя вызвать. Поэтому, если надо посчитать производные по двум переменным, есть 2 различных способа:"
   ]
  },
  {
   "cell_type": "markdown",
   "id": "72fd44be",
   "metadata": {},
   "source": [
    "1 способ - сразу посчитать обе производные"
   ]
  },
  {
   "cell_type": "code",
   "execution_count": 28,
   "id": "364becfd",
   "metadata": {},
   "outputs": [
    {
     "name": "stdout",
     "output_type": "stream",
     "text": [
      "tf.Tensor(4.0, shape=(), dtype=float32)\n",
      "tf.Tensor(8.0, shape=(), dtype=float32)\n"
     ]
    }
   ],
   "source": [
    "x = tf.Variable(1, dtype=tf.float32, trainable=False)\n",
    "with tf.GradientTape(watch_accessed_variables=False) as tape:\n",
    "    tape.watch(x)\n",
    "    y = 2 * x\n",
    "    f = y * y\n",
    "df = tape.gradient(f, [y, x])\n",
    "print(df[0], df[1], sep='\\n')"
   ]
  },
  {
   "cell_type": "markdown",
   "id": "4b45559e",
   "metadata": {},
   "source": [
    "2 способ - задать флаг persistent=True"
   ]
  },
  {
   "cell_type": "code",
   "execution_count": 30,
   "id": "d6f7d363",
   "metadata": {},
   "outputs": [
    {
     "name": "stdout",
     "output_type": "stream",
     "text": [
      "tf.Tensor(4.0, shape=(), dtype=float32)\n",
      "tf.Tensor(8.0, shape=(), dtype=float32)\n"
     ]
    }
   ],
   "source": [
    "x = tf.Variable(1, dtype=tf.float32, trainable=False)\n",
    "with tf.GradientTape(watch_accessed_variables=False, persistent=True) as tape:\n",
    "    tape.watch(x)\n",
    "    y = 2 * x\n",
    "    f = y * y\n",
    "df_y = tape.gradient(f, y)\n",
    "\n",
    "df_x = tape.gradient(f, x)\n",
    "print(df_y, df_x, sep='\\n')"
   ]
  },
  {
   "cell_type": "markdown",
   "id": "14dc4de2",
   "metadata": {},
   "source": [
    "Но при этом, удаление ресурса лежит на плечах программиста. После выполнения расчета градиентов, необходимо освободить память, удали объект tape"
   ]
  },
  {
   "cell_type": "code",
   "execution_count": 31,
   "id": "ade7db6e",
   "metadata": {},
   "outputs": [],
   "source": [
    "del tape"
   ]
  },
  {
   "cell_type": "markdown",
   "id": "ded3db91",
   "metadata": {},
   "source": [
    "### Определение градиента для векторных величин"
   ]
  },
  {
   "cell_type": "markdown",
   "id": "bc73cfb9",
   "metadata": {},
   "source": [
    "#### Допустим, надо найти значение градиента для скалярной функции x, выходной функцией является векторная функция y = (y1, y2). Результирующий градиент будет скаляром"
   ]
  },
  {
   "cell_type": "markdown",
   "id": "eb78a225",
   "metadata": {},
   "source": [
    "<img src='tf3 pic1.png'>"
   ]
  },
  {
   "cell_type": "code",
   "execution_count": 32,
   "id": "590d6320",
   "metadata": {},
   "outputs": [
    {
     "data": {
      "text/plain": [
       "<tf.Tensor: shape=(), dtype=float32, numpy=10.0>"
      ]
     },
     "execution_count": 32,
     "metadata": {},
     "output_type": "execute_result"
    }
   ],
   "source": [
    "x = tf.Variable(1.0)\n",
    "with tf.GradientTape() as tape:\n",
    "    y = [2.0, 3.0] * x ** 2\n",
    "df = tape.gradient(y, x)\n",
    "df"
   ]
  },
  {
   "cell_type": "markdown",
   "id": "0bae3390",
   "metadata": {},
   "source": [
    "Получается, считается градиент в точках y1 и y2, затем они складываются"
   ]
  },
  {
   "cell_type": "markdown",
   "id": "f078c0cc",
   "metadata": {},
   "source": [
    "#### Другой случай - допустим, надо найти значение градиента для вектора (x1, x2), выходной функцией которого - скаляр y. Значения градиента (производной) будут вектором"
   ]
  },
  {
   "cell_type": "markdown",
   "id": "93812d9a",
   "metadata": {},
   "source": [
    "<img src='tf3 pic2.png'>"
   ]
  },
  {
   "cell_type": "code",
   "execution_count": 35,
   "id": "5a484e4f",
   "metadata": {},
   "outputs": [
    {
     "name": "stdout",
     "output_type": "stream",
     "text": [
      "tf.Tensor([ 4. 12.], shape=(2,), dtype=float32)\n"
     ]
    }
   ],
   "source": [
    "x = tf.Variable([1.0, 2.0])\n",
    "with tf.GradientTape() as tape:\n",
    "    y = tf.reduce_sum([2.0, 3.0] * x ** 2)\n",
    "df = tape.gradient(y, x)\n",
    "print(df)"
   ]
  },
  {
   "cell_type": "markdown",
   "id": "d51f2a54",
   "metadata": {},
   "source": [
    "#### Условия внутри контекстного менеджера"
   ]
  },
  {
   "cell_type": "code",
   "execution_count": 38,
   "id": "b106687b",
   "metadata": {},
   "outputs": [
    {
     "name": "stdout",
     "output_type": "stream",
     "text": [
      "tf.Tensor(2.0, shape=(), dtype=float32)\n"
     ]
    }
   ],
   "source": [
    "x = tf.Variable(1.0)\n",
    "with tf.GradientTape() as tape:\n",
    "    if x < 2.0:\n",
    "        y = x ** 2\n",
    "    else:\n",
    "        y = x ** 3\n",
    "df = tape.gradient(y, x)\n",
    "print(df)"
   ]
  },
  {
   "cell_type": "markdown",
   "id": "1a9d6cd4",
   "metadata": {},
   "source": [
    "### Частые ошибки"
   ]
  },
  {
   "cell_type": "markdown",
   "id": "2ec25d11",
   "metadata": {},
   "source": [
    "#### Задание функции вне контекстного менеджера"
   ]
  },
  {
   "cell_type": "code",
   "execution_count": 39,
   "id": "81787691",
   "metadata": {},
   "outputs": [
    {
     "name": "stdout",
     "output_type": "stream",
     "text": [
      "None\n"
     ]
    }
   ],
   "source": [
    "x = tf.Variable(1.0)\n",
    "y = 2 * x + 1 # функция задана вне контекстного менеджера\n",
    "with tf.GradientTape() as tape:\n",
    "    z = y ** 2\n",
    "df = tape.gradient(z, x)\n",
    "print(df)"
   ]
  },
  {
   "cell_type": "markdown",
   "id": "586966fa",
   "metadata": {},
   "source": [
    "Здесь функция y, хоть и зависит от x, но она задана не в менеджере контекста, поэтому она не отслеживается. Поэтому градиент не считается. Правильно делать так:"
   ]
  },
  {
   "cell_type": "code",
   "execution_count": 40,
   "id": "64d4848b",
   "metadata": {},
   "outputs": [
    {
     "name": "stdout",
     "output_type": "stream",
     "text": [
      "tf.Tensor(12.0, shape=(), dtype=float32)\n"
     ]
    }
   ],
   "source": [
    "x = tf.Variable(1.0)\n",
    "\n",
    "with tf.GradientTape() as tape:\n",
    "    y = 2 * x + 1\n",
    "    z = y ** 2\n",
    "df = tape.gradient(z, x)\n",
    "print(df)"
   ]
  },
  {
   "cell_type": "markdown",
   "id": "0053eeec",
   "metadata": {},
   "source": [
    "#### Случайная замена переменной на константу"
   ]
  },
  {
   "cell_type": "code",
   "execution_count": 42,
   "id": "a8ce24e4",
   "metadata": {},
   "outputs": [
    {
     "name": "stdout",
     "output_type": "stream",
     "text": [
      "tf.Tensor(4.0, shape=(), dtype=float32)\n",
      "None\n",
      "None\n"
     ]
    }
   ],
   "source": [
    "x = tf.Variable(1.0)\n",
    "for n in range(3):\n",
    "    with tf.GradientTape() as tape:\n",
    "        y = x ** 2 + 2 * x\n",
    "    df = tape.gradient(y, x)\n",
    "    print(df)\n",
    "    \n",
    "    x = x + 1 #так делать не надо!"
   ]
  },
  {
   "cell_type": "markdown",
   "id": "d69ad453",
   "metadata": {},
   "source": [
    "В первую итерацию градиент посчитался, а затем x превратился в константу, т.к. сложился с числом. И на 2-й итерации градиент не посчитался. Правильно вот так:"
   ]
  },
  {
   "cell_type": "code",
   "execution_count": 44,
   "id": "f8379f82",
   "metadata": {},
   "outputs": [
    {
     "name": "stdout",
     "output_type": "stream",
     "text": [
      "tf.Tensor(4.0, shape=(), dtype=float32)\n",
      "tf.Tensor(6.0, shape=(), dtype=float32)\n",
      "tf.Tensor(8.0, shape=(), dtype=float32)\n"
     ]
    }
   ],
   "source": [
    "x = tf.Variable(1.0)\n",
    "for n in range(3):\n",
    "    with tf.GradientTape() as tape:\n",
    "        y = x ** 2 + 2 * x\n",
    "    df = tape.gradient(y, x)\n",
    "    print(df)\n",
    "    \n",
    "    x.assign_add(1.0)"
   ]
  },
  {
   "cell_type": "markdown",
   "id": "60918352",
   "metadata": {},
   "source": [
    "#### Использование сторонних библиотек для вычисления функций"
   ]
  },
  {
   "cell_type": "code",
   "execution_count": 47,
   "id": "ed6eb1f5",
   "metadata": {},
   "outputs": [
    {
     "name": "stdout",
     "output_type": "stream",
     "text": [
      "None\n"
     ]
    }
   ],
   "source": [
    "x = tf.Variable(1.0)\n",
    "with tf.GradientTape() as tape:\n",
    "    y = tf.constant(2.0) + np.square(x) # x возводится в квадрат при помощи numpy! так делать не надо\n",
    "df = tape.gradient(y, x)\n",
    "print(df)"
   ]
  },
  {
   "cell_type": "markdown",
   "id": "1cb9f832",
   "metadata": {},
   "source": [
    "Надо делать так:"
   ]
  },
  {
   "cell_type": "code",
   "execution_count": 48,
   "id": "a8521b44",
   "metadata": {},
   "outputs": [
    {
     "name": "stdout",
     "output_type": "stream",
     "text": [
      "tf.Tensor(2.0, shape=(), dtype=float32)\n"
     ]
    }
   ],
   "source": [
    "x = tf.Variable(1.0)\n",
    "with tf.GradientTape() as tape:\n",
    "    y = tf.constant(2.0) + x ** 2\n",
    "df = tape.gradient(y, x)\n",
    "print(df)"
   ]
  },
  {
   "cell_type": "markdown",
   "id": "859fb899",
   "metadata": {},
   "source": [
    "Все вычисления нужно выполнять на уровне tensorflow (чтобы они сохранялись в памяти). На уровень других пакетов переходить нельзя"
   ]
  },
  {
   "cell_type": "markdown",
   "id": "5e68806b",
   "metadata": {},
   "source": [
    "#### Неправильный тип данных"
   ]
  },
  {
   "cell_type": "code",
   "execution_count": 50,
   "id": "7d895a71",
   "metadata": {},
   "outputs": [
    {
     "name": "stdout",
     "output_type": "stream",
     "text": [
      "WARNING:tensorflow:The dtype of the target tensor must be floating (e.g. tf.float32) when calling GradientTape.gradient, got tf.int32\n",
      "WARNING:tensorflow:The dtype of the source tensor must be floating (e.g. tf.float32) when calling GradientTape.gradient, got tf.int32\n",
      "None\n"
     ]
    }
   ],
   "source": [
    "x = tf.Variable(1) # задан тип integer, а нужен float!\n",
    "with tf.GradientTape() as tape:\n",
    "    y = x ** 2\n",
    "df = tape.gradient(y, x)\n",
    "print(df)"
   ]
  },
  {
   "cell_type": "markdown",
   "id": "22b385cd",
   "metadata": {},
   "source": [
    "Правильно вот так:"
   ]
  },
  {
   "cell_type": "code",
   "execution_count": 51,
   "id": "161783ff",
   "metadata": {},
   "outputs": [
    {
     "name": "stdout",
     "output_type": "stream",
     "text": [
      "tf.Tensor(2.0, shape=(), dtype=float32)\n"
     ]
    }
   ],
   "source": [
    "x = tf.Variable(1, dtype=tf.float32) #или 1.0\n",
    "with tf.GradientTape() as tape:\n",
    "    y = x ** 2\n",
    "df = tape.gradient(y, x)\n",
    "print(df)"
   ]
  },
  {
   "cell_type": "markdown",
   "id": "68a02282",
   "metadata": {},
   "source": [
    "#### Формулы целевой функции в неявном виде"
   ]
  },
  {
   "cell_type": "code",
   "execution_count": 52,
   "id": "01e0d475",
   "metadata": {},
   "outputs": [
    {
     "name": "stdout",
     "output_type": "stream",
     "text": [
      "None\n"
     ]
    }
   ],
   "source": [
    "x = tf.Variable(1.0)\n",
    "w = tf.Variable(2.0)\n",
    "with tf.GradientTape() as tape:\n",
    "    w.assign_add(x)\n",
    "    y = w ** 2 #здесь подразумевается, что y = (w + x) ** 2, w определяется в неявном виде\n",
    "df = tape.gradient(y, x)\n",
    "print(df)"
   ]
  },
  {
   "cell_type": "markdown",
   "id": "fa4ed9ce",
   "metadata": {},
   "source": [
    "Правильно сделать так. Задать промежуточную переменную s, которая будет равна сумме w + x"
   ]
  },
  {
   "cell_type": "code",
   "execution_count": 53,
   "id": "8435c9f5",
   "metadata": {},
   "outputs": [
    {
     "name": "stdout",
     "output_type": "stream",
     "text": [
      "tf.Tensor(6.0, shape=(), dtype=float32)\n"
     ]
    }
   ],
   "source": [
    "x = tf.Variable(1.0)\n",
    "w = tf.Variable(2.0)\n",
    "with tf.GradientTape() as tape:\n",
    "    s = w + x # это явное задание\n",
    "    y = s ** 2\n",
    "df = tape.gradient(y, x)\n",
    "print(df)"
   ]
  },
  {
   "cell_type": "code",
   "execution_count": null,
   "id": "83879629",
   "metadata": {},
   "outputs": [],
   "source": []
  }
 ],
 "metadata": {
  "kernelspec": {
   "display_name": "Python 3 (ipykernel)",
   "language": "python",
   "name": "python3"
  },
  "language_info": {
   "codemirror_mode": {
    "name": "ipython",
    "version": 3
   },
   "file_extension": ".py",
   "mimetype": "text/x-python",
   "name": "python",
   "nbconvert_exporter": "python",
   "pygments_lexer": "ipython3",
   "version": "3.8.3"
  }
 },
 "nbformat": 4,
 "nbformat_minor": 5
}
