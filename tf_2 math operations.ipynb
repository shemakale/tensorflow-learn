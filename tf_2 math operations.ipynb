{
 "cells": [
  {
   "cell_type": "code",
   "execution_count": 5,
   "id": "bf4de8f9",
   "metadata": {},
   "outputs": [],
   "source": [
    "import tensorflow as tf\n",
    "import numpy as np\n",
    "import os\n",
    "os.environ['TF_CPP_MIN_LOG_LEVEL'] = '2'"
   ]
  },
  {
   "cell_type": "markdown",
   "id": "b0059375",
   "metadata": {},
   "source": [
    "### Функции автозаполнения"
   ]
  },
  {
   "cell_type": "markdown",
   "id": "a1ac30a4",
   "metadata": {},
   "source": [
    "#### Создать матрицу, заполненную нулями: tf.zeros"
   ]
  },
  {
   "cell_type": "code",
   "execution_count": 6,
   "id": "7b092f68",
   "metadata": {},
   "outputs": [
    {
     "data": {
      "text/plain": [
       "<tf.Tensor: shape=(3, 3), dtype=float32, numpy=\n",
       "array([[0., 0., 0.],\n",
       "       [0., 0., 0.],\n",
       "       [0., 0., 0.]], dtype=float32)>"
      ]
     },
     "execution_count": 6,
     "metadata": {},
     "output_type": "execute_result"
    }
   ],
   "source": [
    "a = tf.zeros((3, 3))\n",
    "a"
   ]
  },
  {
   "cell_type": "markdown",
   "id": "e7fb97f3",
   "metadata": {},
   "source": [
    "#### Создать матрицу, заполенную единицами: tf.ones"
   ]
  },
  {
   "cell_type": "code",
   "execution_count": 7,
   "id": "fa43dc31",
   "metadata": {},
   "outputs": [
    {
     "name": "stdout",
     "output_type": "stream",
     "text": [
      "tf.Tensor(\n",
      "[[1. 1. 1.]\n",
      " [1. 1. 1.]\n",
      " [1. 1. 1.]\n",
      " [1. 1. 1.]\n",
      " [1. 1. 1.]], shape=(5, 3), dtype=float32)\n"
     ]
    }
   ],
   "source": [
    "b = tf.ones((5, 3))\n",
    "print(b)"
   ]
  },
  {
   "cell_type": "markdown",
   "id": "f5515f94",
   "metadata": {},
   "source": [
    "#### Создать матрицу, заполненную единицами, на основе формы другой матрицы: tf.ones_like"
   ]
  },
  {
   "cell_type": "code",
   "execution_count": 9,
   "id": "21fe7719",
   "metadata": {},
   "outputs": [
    {
     "data": {
      "text/plain": [
       "<tf.Tensor: shape=(3, 3), dtype=float32, numpy=\n",
       "array([[1., 1., 1.],\n",
       "       [1., 1., 1.],\n",
       "       [1., 1., 1.]], dtype=float32)>"
      ]
     },
     "execution_count": 9,
     "metadata": {},
     "output_type": "execute_result"
    }
   ],
   "source": [
    "c = tf.ones_like(a)\n",
    "c"
   ]
  },
  {
   "cell_type": "code",
   "execution_count": 26,
   "id": "c3731cb0",
   "metadata": {},
   "outputs": [
    {
     "data": {
      "text/plain": [
       "<tf.Tensor: shape=(2, 2), dtype=int32, numpy=\n",
       "array([[1, 1],\n",
       "       [1, 1]])>"
      ]
     },
     "execution_count": 26,
     "metadata": {},
     "output_type": "execute_result"
    }
   ],
   "source": [
    "arr = np.array([[1, 2], [3, 4]], dtype=int)\n",
    "ff = tf.ones_like(arr)\n",
    "ff"
   ]
  },
  {
   "cell_type": "markdown",
   "id": "ed57b12d",
   "metadata": {},
   "source": [
    "#### Создать матрицу, заполненную нулями, на основе формы другой матрицы: tf.zeros_like"
   ]
  },
  {
   "cell_type": "code",
   "execution_count": 10,
   "id": "06857251",
   "metadata": {},
   "outputs": [
    {
     "data": {
      "text/plain": [
       "<tf.Tensor: shape=(5, 3), dtype=float32, numpy=\n",
       "array([[0., 0., 0.],\n",
       "       [0., 0., 0.],\n",
       "       [0., 0., 0.],\n",
       "       [0., 0., 0.],\n",
       "       [0., 0., 0.]], dtype=float32)>"
      ]
     },
     "execution_count": 10,
     "metadata": {},
     "output_type": "execute_result"
    }
   ],
   "source": [
    "d = tf.zeros_like(b)\n",
    "d"
   ]
  },
  {
   "cell_type": "markdown",
   "id": "a0ec8dc7",
   "metadata": {},
   "source": [
    "#### Создать матрицу с единицами на главной диагонали: tf.eye"
   ]
  },
  {
   "cell_type": "code",
   "execution_count": 13,
   "id": "2105a091",
   "metadata": {},
   "outputs": [
    {
     "data": {
      "text/plain": [
       "<tf.Tensor: shape=(3, 3), dtype=float32, numpy=\n",
       "array([[1., 0., 0.],\n",
       "       [0., 1., 0.],\n",
       "       [0., 0., 1.]], dtype=float32)>"
      ]
     },
     "execution_count": 13,
     "metadata": {},
     "output_type": "execute_result"
    }
   ],
   "source": [
    "f = tf.eye(3)\n",
    "f"
   ]
  },
  {
   "cell_type": "code",
   "execution_count": 17,
   "id": "f2437bd6",
   "metadata": {},
   "outputs": [
    {
     "data": {
      "text/plain": [
       "<tf.Tensor: shape=(3, 2), dtype=float32, numpy=\n",
       "array([[1., 0.],\n",
       "       [0., 1.],\n",
       "       [0., 0.]], dtype=float32)>"
      ]
     },
     "execution_count": 17,
     "metadata": {},
     "output_type": "execute_result"
    }
   ],
   "source": [
    "g = tf.eye(3, 2)\n",
    "g"
   ]
  },
  {
   "cell_type": "markdown",
   "id": "3e520892",
   "metadata": {},
   "source": [
    "#### Создание копии тензоров с сохранением их значений: tf.identity"
   ]
  },
  {
   "cell_type": "code",
   "execution_count": 20,
   "id": "e5e080c5",
   "metadata": {},
   "outputs": [
    {
     "data": {
      "text/plain": [
       "<tf.Tensor: shape=(5, 3), dtype=float32, numpy=\n",
       "array([[0., 0., 0.],\n",
       "       [0., 0., 0.],\n",
       "       [0., 0., 0.],\n",
       "       [0., 0., 0.],\n",
       "       [0., 0., 0.]], dtype=float32)>"
      ]
     },
     "execution_count": 20,
     "metadata": {},
     "output_type": "execute_result"
    }
   ],
   "source": [
    "h = tf.identity(d)\n",
    "h"
   ]
  },
  {
   "cell_type": "markdown",
   "id": "7df2d802",
   "metadata": {},
   "source": [
    "#### Заполнить матрицу заданной формы заданным значением: tf.fill"
   ]
  },
  {
   "cell_type": "code",
   "execution_count": 21,
   "id": "faf23046",
   "metadata": {},
   "outputs": [
    {
     "data": {
      "text/plain": [
       "<tf.Tensor: shape=(2, 3), dtype=int32, numpy=\n",
       "array([[-1, -1, -1],\n",
       "       [-1, -1, -1]])>"
      ]
     },
     "execution_count": 21,
     "metadata": {},
     "output_type": "execute_result"
    }
   ],
   "source": [
    "i = tf.fill((2, 3,), -1)\n",
    "i"
   ]
  },
  {
   "cell_type": "markdown",
   "id": "cbfec884",
   "metadata": {},
   "source": [
    "#### Создание тензора из диапазона значений с заданным шагом: tf.range"
   ]
  },
  {
   "cell_type": "code",
   "execution_count": 22,
   "id": "94cd8f78",
   "metadata": {},
   "outputs": [
    {
     "data": {
      "text/plain": [
       "<tf.Tensor: shape=(10,), dtype=float32, numpy=\n",
       "array([1.       , 1.2      , 1.4000001, 1.6000001, 1.8000002, 2.0000002,\n",
       "       2.2000003, 2.4000003, 2.6000004, 2.8000004], dtype=float32)>"
      ]
     },
     "execution_count": 22,
     "metadata": {},
     "output_type": "execute_result"
    }
   ],
   "source": [
    "j = tf.range(1, 3, 0.2)\n",
    "j"
   ]
  },
  {
   "cell_type": "markdown",
   "id": "4cdaae70",
   "metadata": {},
   "source": [
    "### Генерация случайных чисел"
   ]
  },
  {
   "cell_type": "markdown",
   "id": "3892cc2f",
   "metadata": {},
   "source": [
    "#### Создать тензор и заполнить его значениями по нормальному закону распределения: tf.random.normal"
   ]
  },
  {
   "cell_type": "code",
   "execution_count": 27,
   "id": "b949c313",
   "metadata": {},
   "outputs": [
    {
     "data": {
      "text/plain": [
       "<tf.Tensor: shape=(2, 4), dtype=float32, numpy=\n",
       "array([[-0.00159768, -0.12243473, -0.12319896, -0.11507231],\n",
       "       [-0.04225143,  0.07537443, -0.03738357, -0.07111195]],\n",
       "      dtype=float32)>"
      ]
     },
     "execution_count": 27,
     "metadata": {},
     "output_type": "execute_result"
    }
   ],
   "source": [
    "a = tf.random.normal((2, 4), 0, 0.1) # 0 - мат ожидание распределения, 0.1 - стандартное отклонение\n",
    "a"
   ]
  },
  {
   "cell_type": "markdown",
   "id": "f624f705",
   "metadata": {},
   "source": [
    "#### То же, только значения величин в диапазоне +-2сигма (ст. откл): tf.random.truncated_normal"
   ]
  },
  {
   "cell_type": "code",
   "execution_count": 35,
   "id": "c3d69c96",
   "metadata": {},
   "outputs": [
    {
     "data": {
      "text/plain": [
       "<tf.Tensor: shape=(1, 5), dtype=float32, numpy=\n",
       "array([[-0.9596912 , -1.1088021 , -1.0063095 , -0.86634433, -1.0166903 ]],\n",
       "      dtype=float32)>"
      ]
     },
     "execution_count": 35,
     "metadata": {},
     "output_type": "execute_result"
    }
   ],
   "source": [
    "c = tf.random.truncated_normal((1, 5), -1, 0.1) # -1 - мат ожидание распределения, 0.1 - стандартное отклонение\n",
    "c"
   ]
  },
  {
   "cell_type": "markdown",
   "id": "dff01b96",
   "metadata": {},
   "source": [
    "#### Создать тензор и заполнить его значениями по равномерному закону распределения: tf.random.uniform"
   ]
  },
  {
   "cell_type": "code",
   "execution_count": 31,
   "id": "e03fc08b",
   "metadata": {},
   "outputs": [
    {
     "data": {
      "text/plain": [
       "<tf.Tensor: shape=(3, 3), dtype=float32, numpy=\n",
       "array([[ 0.3230784 ,  0.83462286, -0.7356303 ],\n",
       "       [-0.78320456,  0.5948124 , -0.5494201 ],\n",
       "       [ 0.5267477 , -0.8279033 ,  0.65729403]], dtype=float32)>"
      ]
     },
     "execution_count": 31,
     "metadata": {},
     "output_type": "execute_result"
    }
   ],
   "source": [
    "b = tf.random.uniform((3, 3), -1, 1) # 0 - мат ожидание распределения, -1 и 1 - границы распределения\n",
    "b"
   ]
  },
  {
   "cell_type": "markdown",
   "id": "fb8523e9",
   "metadata": {},
   "source": [
    "#### Установить значение зерна генератора случайных чисел (для воспроизведения одних и тех же значений величин): tf.random.set_seed"
   ]
  },
  {
   "cell_type": "code",
   "execution_count": 37,
   "id": "3b070bb3",
   "metadata": {},
   "outputs": [],
   "source": [
    "tf.random.set_seed(1)"
   ]
  },
  {
   "cell_type": "code",
   "execution_count": 38,
   "id": "115c79c3",
   "metadata": {},
   "outputs": [
    {
     "data": {
      "text/plain": [
       "<tf.Tensor: shape=(1, 7), dtype=float32, numpy=\n",
       "array([[1.8987797, 4.5457516, 3.383644 , 2.1203423, 4.40552  , 3.379859 ,\n",
       "        3.3629978]], dtype=float32)>"
      ]
     },
     "execution_count": 38,
     "metadata": {},
     "output_type": "execute_result"
    }
   ],
   "source": [
    "tf.random.truncated_normal((1, 7), 3, 1) #тут одинаково"
   ]
  },
  {
   "cell_type": "code",
   "execution_count": 41,
   "id": "96364c4e",
   "metadata": {},
   "outputs": [
    {
     "data": {
      "text/plain": [
       "<tf.Tensor: shape=(1, 7), dtype=float32, numpy=\n",
       "array([[1.8987797, 4.5457516, 3.383644 , 2.1203423, 4.40552  , 3.379859 ,\n",
       "        3.3629978]], dtype=float32)>"
      ]
     },
     "execution_count": 41,
     "metadata": {},
     "output_type": "execute_result"
    }
   ],
   "source": [
    "tf.random.set_seed(1)\n",
    "tf.random.truncated_normal((1, 7), 3, 1) # и тут одинаково!"
   ]
  },
  {
   "cell_type": "markdown",
   "id": "7bde623c",
   "metadata": {},
   "source": [
    "#### Перемешать значения в матрице относительно горизонтальной оси (перемешать строки): tf.random.shuffle"
   ]
  },
  {
   "cell_type": "code",
   "execution_count": 42,
   "id": "817eda1f",
   "metadata": {},
   "outputs": [
    {
     "data": {
      "text/plain": [
       "<tf.Tensor: shape=(3, 3), dtype=float32, numpy=\n",
       "array([[ 0.3230784 ,  0.83462286, -0.7356303 ],\n",
       "       [-0.78320456,  0.5948124 , -0.5494201 ],\n",
       "       [ 0.5267477 , -0.8279033 ,  0.65729403]], dtype=float32)>"
      ]
     },
     "execution_count": 42,
     "metadata": {},
     "output_type": "execute_result"
    }
   ],
   "source": [
    "b"
   ]
  },
  {
   "cell_type": "code",
   "execution_count": 43,
   "id": "9d444574",
   "metadata": {},
   "outputs": [
    {
     "data": {
      "text/plain": [
       "<tf.Tensor: shape=(3, 3), dtype=float32, numpy=\n",
       "array([[ 0.5267477 , -0.8279033 ,  0.65729403],\n",
       "       [-0.78320456,  0.5948124 , -0.5494201 ],\n",
       "       [ 0.3230784 ,  0.83462286, -0.7356303 ]], dtype=float32)>"
      ]
     },
     "execution_count": 43,
     "metadata": {},
     "output_type": "execute_result"
    }
   ],
   "source": [
    "b1 = tf.random.shuffle(b)\n",
    "b1"
   ]
  },
  {
   "cell_type": "code",
   "execution_count": 44,
   "id": "2520143e",
   "metadata": {},
   "outputs": [],
   "source": [
    "tf.random.shuffle"
   ]
  },
  {
   "cell_type": "markdown",
   "id": "47f5e4ee",
   "metadata": {},
   "source": [
    "### Математические операции"
   ]
  },
  {
   "cell_type": "markdown",
   "id": "a53ea040",
   "metadata": {},
   "source": [
    "#### Сложение: tf.add"
   ]
  },
  {
   "cell_type": "code",
   "execution_count": 45,
   "id": "bb399081",
   "metadata": {},
   "outputs": [],
   "source": [
    "a = tf.constant([1, 2, 3])\n",
    "b = tf.constant([2, 3, 4])"
   ]
  },
  {
   "cell_type": "code",
   "execution_count": 106,
   "id": "d555ee1a",
   "metadata": {},
   "outputs": [
    {
     "data": {
      "text/plain": [
       "<tf.Tensor: shape=(3,), dtype=int32, numpy=array([3, 5, 7])>"
      ]
     },
     "execution_count": 106,
     "metadata": {},
     "output_type": "execute_result"
    }
   ],
   "source": [
    "tf.add(a, b) # тип данных двух тензоров должен быть одинаковым!"
   ]
  },
  {
   "cell_type": "code",
   "execution_count": 47,
   "id": "2b46e3c0",
   "metadata": {},
   "outputs": [
    {
     "data": {
      "text/plain": [
       "<tf.Tensor: shape=(3,), dtype=int32, numpy=array([3, 5, 7])>"
      ]
     },
     "execution_count": 47,
     "metadata": {},
     "output_type": "execute_result"
    }
   ],
   "source": [
    "a + b #аналог"
   ]
  },
  {
   "cell_type": "markdown",
   "id": "f7b9248e",
   "metadata": {},
   "source": [
    "#### Вычитание: tf.subtract"
   ]
  },
  {
   "cell_type": "code",
   "execution_count": 48,
   "id": "fa067e4e",
   "metadata": {},
   "outputs": [
    {
     "data": {
      "text/plain": [
       "<tf.Tensor: shape=(3,), dtype=int32, numpy=array([-1, -1, -1])>"
      ]
     },
     "execution_count": 48,
     "metadata": {},
     "output_type": "execute_result"
    }
   ],
   "source": [
    "tf.subtract(a, b)"
   ]
  },
  {
   "cell_type": "code",
   "execution_count": 49,
   "id": "8a994ec0",
   "metadata": {},
   "outputs": [
    {
     "data": {
      "text/plain": [
       "<tf.Tensor: shape=(3,), dtype=int32, numpy=array([-1, -1, -1])>"
      ]
     },
     "execution_count": 49,
     "metadata": {},
     "output_type": "execute_result"
    }
   ],
   "source": [
    "a - b # аналог"
   ]
  },
  {
   "cell_type": "markdown",
   "id": "5849115f",
   "metadata": {},
   "source": [
    "#### Деление: tf.divide"
   ]
  },
  {
   "cell_type": "code",
   "execution_count": 50,
   "id": "1692e0b1",
   "metadata": {},
   "outputs": [
    {
     "data": {
      "text/plain": [
       "<tf.Tensor: shape=(3,), dtype=float64, numpy=array([2.        , 1.5       , 1.33333333])>"
      ]
     },
     "execution_count": 50,
     "metadata": {},
     "output_type": "execute_result"
    }
   ],
   "source": [
    "tf.divide(b, a)"
   ]
  },
  {
   "cell_type": "code",
   "execution_count": 51,
   "id": "7ad18146",
   "metadata": {},
   "outputs": [
    {
     "data": {
      "text/plain": [
       "<tf.Tensor: shape=(3,), dtype=float64, numpy=array([2.        , 1.5       , 1.33333333])>"
      ]
     },
     "execution_count": 51,
     "metadata": {},
     "output_type": "execute_result"
    }
   ],
   "source": [
    "b / a"
   ]
  },
  {
   "cell_type": "code",
   "execution_count": 52,
   "id": "c8bd3e89",
   "metadata": {},
   "outputs": [
    {
     "data": {
      "text/plain": [
       "<tf.Tensor: shape=(3,), dtype=int32, numpy=array([2, 1, 1])>"
      ]
     },
     "execution_count": 52,
     "metadata": {},
     "output_type": "execute_result"
    }
   ],
   "source": [
    "b // a"
   ]
  },
  {
   "cell_type": "markdown",
   "id": "5cf7557a",
   "metadata": {},
   "source": [
    "#### Умножение: tf.multiply"
   ]
  },
  {
   "cell_type": "code",
   "execution_count": 53,
   "id": "01155bc6",
   "metadata": {},
   "outputs": [
    {
     "data": {
      "text/plain": [
       "<tf.Tensor: shape=(3,), dtype=int32, numpy=array([ 2,  6, 12])>"
      ]
     },
     "execution_count": 53,
     "metadata": {},
     "output_type": "execute_result"
    }
   ],
   "source": [
    "tf.multiply(a, b)"
   ]
  },
  {
   "cell_type": "code",
   "execution_count": 54,
   "id": "7c352793",
   "metadata": {},
   "outputs": [
    {
     "data": {
      "text/plain": [
       "<tf.Tensor: shape=(3,), dtype=int32, numpy=array([ 2,  6, 12])>"
      ]
     },
     "execution_count": 54,
     "metadata": {},
     "output_type": "execute_result"
    }
   ],
   "source": [
    "a * b"
   ]
  },
  {
   "cell_type": "markdown",
   "id": "7777de8d",
   "metadata": {},
   "source": [
    "#### Возведение в степень"
   ]
  },
  {
   "cell_type": "code",
   "execution_count": 55,
   "id": "bc3488e7",
   "metadata": {},
   "outputs": [
    {
     "data": {
      "text/plain": [
       "<tf.Tensor: shape=(3,), dtype=int32, numpy=array([1, 4, 9])>"
      ]
     },
     "execution_count": 55,
     "metadata": {},
     "output_type": "execute_result"
    }
   ],
   "source": [
    "a ** 2"
   ]
  },
  {
   "cell_type": "code",
   "execution_count": 91,
   "id": "dd563116",
   "metadata": {},
   "outputs": [
    {
     "data": {
      "text/plain": [
       "<tf.Tensor: shape=(3,), dtype=int32, numpy=array([1, 4, 9])>"
      ]
     },
     "execution_count": 91,
     "metadata": {},
     "output_type": "execute_result"
    }
   ],
   "source": [
    "tf.square(a) # в квадрат"
   ]
  },
  {
   "cell_type": "markdown",
   "id": "f300bfff",
   "metadata": {},
   "source": [
    "#### Векторное внешнее умножение: tf.tensordot(a, b, axes=0)"
   ]
  },
  {
   "cell_type": "code",
   "execution_count": 56,
   "id": "8da60df5",
   "metadata": {},
   "outputs": [],
   "source": [
    "a = tf.constant([1, 2, 3])\n",
    "b = tf.constant([2, 3, 4])"
   ]
  },
  {
   "cell_type": "code",
   "execution_count": 57,
   "id": "eac8c8cb",
   "metadata": {},
   "outputs": [
    {
     "data": {
      "text/plain": [
       "<tf.Tensor: shape=(3, 3), dtype=int32, numpy=\n",
       "array([[ 2,  3,  4],\n",
       "       [ 4,  6,  8],\n",
       "       [ 6,  9, 12]])>"
      ]
     },
     "execution_count": 57,
     "metadata": {},
     "output_type": "execute_result"
    }
   ],
   "source": [
    "tf.tensordot(a, b, axes=0)"
   ]
  },
  {
   "cell_type": "markdown",
   "id": "669ed590",
   "metadata": {},
   "source": [
    "#### Векторное внутреннее умножение: tf.tensordot(a, b, axes=1)"
   ]
  },
  {
   "cell_type": "code",
   "execution_count": 58,
   "id": "56ede7f5",
   "metadata": {},
   "outputs": [
    {
     "data": {
      "text/plain": [
       "<tf.Tensor: shape=(), dtype=int32, numpy=20>"
      ]
     },
     "execution_count": 58,
     "metadata": {},
     "output_type": "execute_result"
    }
   ],
   "source": [
    "tf.tensordot(a, b, axes=1) # 1*2 + 2*3 + 3*4"
   ]
  },
  {
   "cell_type": "markdown",
   "id": "38d0c621",
   "metadata": {},
   "source": [
    "#### Умножение матриц: tf.matmul"
   ]
  },
  {
   "cell_type": "code",
   "execution_count": 73,
   "id": "273c4d36",
   "metadata": {
    "scrolled": true
   },
   "outputs": [
    {
     "name": "stdout",
     "output_type": "stream",
     "text": [
      "[[1 2 3]\n",
      " [4 5 6]\n",
      " [7 8 9]]\n",
      "[[ 5  6  7]\n",
      " [ 8  9 10]\n",
      " [11 12 13]]\n"
     ]
    }
   ],
   "source": [
    "a1 = tf.constant(tf.range(1, 10), shape=(3, 3))\n",
    "b1 = tf.constant(tf.range(5, 14), shape=(3, 3))\n",
    "print(a1.numpy(), b1.numpy(), sep='\\n')"
   ]
  },
  {
   "cell_type": "code",
   "execution_count": 74,
   "id": "84b5c442",
   "metadata": {},
   "outputs": [
    {
     "data": {
      "text/plain": [
       "<tf.Tensor: shape=(3, 3), dtype=int32, numpy=\n",
       "array([[ 54,  60,  66],\n",
       "       [126, 141, 156],\n",
       "       [198, 222, 246]])>"
      ]
     },
     "execution_count": 74,
     "metadata": {},
     "output_type": "execute_result"
    }
   ],
   "source": [
    "tf.matmul(a1, b1) # 1 строка 1-й матрицы * 1 столбец 2-й матрицы и т.д."
   ]
  },
  {
   "cell_type": "code",
   "execution_count": 75,
   "id": "30bd4681",
   "metadata": {},
   "outputs": [
    {
     "data": {
      "text/plain": [
       "<tf.Tensor: shape=(3, 3), dtype=int32, numpy=\n",
       "array([[ 54,  60,  66],\n",
       "       [126, 141, 156],\n",
       "       [198, 222, 246]])>"
      ]
     },
     "execution_count": 75,
     "metadata": {},
     "output_type": "execute_result"
    }
   ],
   "source": [
    "a1 @ b1 # аналог"
   ]
  },
  {
   "cell_type": "markdown",
   "id": "d126463b",
   "metadata": {},
   "source": [
    "#### Сумма всех  элементов матрицы: tf.reduce_sum"
   ]
  },
  {
   "cell_type": "code",
   "execution_count": 77,
   "id": "d6832732",
   "metadata": {},
   "outputs": [
    {
     "data": {
      "text/plain": [
       "array([[ 2,  3,  4],\n",
       "       [ 4,  6,  8],\n",
       "       [ 6,  9, 12]])"
      ]
     },
     "execution_count": 77,
     "metadata": {},
     "output_type": "execute_result"
    }
   ],
   "source": [
    "n = tf.tensordot(a, b, axes=0)\n",
    "n.numpy()"
   ]
  },
  {
   "cell_type": "code",
   "execution_count": 78,
   "id": "08c716ed",
   "metadata": {},
   "outputs": [
    {
     "data": {
      "text/plain": [
       "<tf.Tensor: shape=(), dtype=int32, numpy=54>"
      ]
     },
     "execution_count": 78,
     "metadata": {},
     "output_type": "execute_result"
    }
   ],
   "source": [
    "tf.reduce_sum(n)"
   ]
  },
  {
   "cell_type": "code",
   "execution_count": 82,
   "id": "fd511e03",
   "metadata": {},
   "outputs": [
    {
     "data": {
      "text/plain": [
       "<tf.Tensor: shape=(), dtype=int32, numpy=54>"
      ]
     },
     "execution_count": 82,
     "metadata": {},
     "output_type": "execute_result"
    }
   ],
   "source": [
    "tf.reduce_sum(n, axis=[0, 1]) # аналог"
   ]
  },
  {
   "cell_type": "markdown",
   "id": "49507f66",
   "metadata": {},
   "source": [
    "#### Сумма элементов матрицы по столбцам"
   ]
  },
  {
   "cell_type": "code",
   "execution_count": 80,
   "id": "161a1b30",
   "metadata": {},
   "outputs": [
    {
     "data": {
      "text/plain": [
       "<tf.Tensor: shape=(3,), dtype=int32, numpy=array([12, 18, 24])>"
      ]
     },
     "execution_count": 80,
     "metadata": {},
     "output_type": "execute_result"
    }
   ],
   "source": [
    "tf.reduce_sum(n, axis=0)"
   ]
  },
  {
   "cell_type": "markdown",
   "id": "8365aac8",
   "metadata": {},
   "source": [
    "#### Сумма элементов матрицы по строкам"
   ]
  },
  {
   "cell_type": "code",
   "execution_count": 81,
   "id": "a4df504c",
   "metadata": {},
   "outputs": [
    {
     "data": {
      "text/plain": [
       "<tf.Tensor: shape=(3,), dtype=int32, numpy=array([ 9, 18, 27])>"
      ]
     },
     "execution_count": 81,
     "metadata": {},
     "output_type": "execute_result"
    }
   ],
   "source": [
    "tf.reduce_sum(n, axis=1)"
   ]
  },
  {
   "cell_type": "markdown",
   "id": "ec64342a",
   "metadata": {},
   "source": [
    "#### Среднее арифметическое значений в матрице: tf.reduce_mean"
   ]
  },
  {
   "cell_type": "code",
   "execution_count": 83,
   "id": "14958b17",
   "metadata": {},
   "outputs": [
    {
     "data": {
      "text/plain": [
       "<tf.Tensor: shape=(), dtype=int32, numpy=6>"
      ]
     },
     "execution_count": 83,
     "metadata": {},
     "output_type": "execute_result"
    }
   ],
   "source": [
    "tf.reduce_mean(n)"
   ]
  },
  {
   "cell_type": "code",
   "execution_count": 85,
   "id": "9f9f2d28",
   "metadata": {},
   "outputs": [
    {
     "data": {
      "text/plain": [
       "<tf.Tensor: shape=(3,), dtype=int32, numpy=array([4, 6, 8])>"
      ]
     },
     "execution_count": 85,
     "metadata": {},
     "output_type": "execute_result"
    }
   ],
   "source": [
    "tf.reduce_mean(n, axis=0)"
   ]
  },
  {
   "cell_type": "code",
   "execution_count": 86,
   "id": "d9e53740",
   "metadata": {},
   "outputs": [
    {
     "data": {
      "text/plain": [
       "<tf.Tensor: shape=(3,), dtype=int32, numpy=array([3, 6, 9])>"
      ]
     },
     "execution_count": 86,
     "metadata": {},
     "output_type": "execute_result"
    }
   ],
   "source": [
    "tf.reduce_mean(n, axis=1)"
   ]
  },
  {
   "cell_type": "markdown",
   "id": "2e07aebd",
   "metadata": {},
   "source": [
    "#### Минимум и максимум в матрице: tf.reduce_min, tf.reduce_max"
   ]
  },
  {
   "cell_type": "code",
   "execution_count": 87,
   "id": "60c99342",
   "metadata": {},
   "outputs": [
    {
     "data": {
      "text/plain": [
       "<tf.Tensor: shape=(), dtype=int32, numpy=2>"
      ]
     },
     "execution_count": 87,
     "metadata": {},
     "output_type": "execute_result"
    }
   ],
   "source": [
    "tf.reduce_min(n)"
   ]
  },
  {
   "cell_type": "code",
   "execution_count": 88,
   "id": "14f69c6f",
   "metadata": {},
   "outputs": [
    {
     "data": {
      "text/plain": [
       "<tf.Tensor: shape=(), dtype=int32, numpy=12>"
      ]
     },
     "execution_count": 88,
     "metadata": {},
     "output_type": "execute_result"
    }
   ],
   "source": [
    "tf.reduce_max(n)"
   ]
  },
  {
   "cell_type": "markdown",
   "id": "f265c35a",
   "metadata": {},
   "source": [
    "#### Произведение всех элементов матрицы между собой: tf.reduce_prod"
   ]
  },
  {
   "cell_type": "code",
   "execution_count": 89,
   "id": "db92fc6b",
   "metadata": {},
   "outputs": [
    {
     "data": {
      "text/plain": [
       "<tf.Tensor: shape=(), dtype=int32, numpy=2985984>"
      ]
     },
     "execution_count": 89,
     "metadata": {},
     "output_type": "execute_result"
    }
   ],
   "source": [
    "tf.reduce_prod(n)"
   ]
  },
  {
   "cell_type": "markdown",
   "id": "3e70a00b",
   "metadata": {},
   "source": [
    "#### Квадратный корень (только для матриц с вещественными числами): tf.sqrt"
   ]
  },
  {
   "cell_type": "code",
   "execution_count": 92,
   "id": "a5578b66",
   "metadata": {},
   "outputs": [
    {
     "data": {
      "text/plain": [
       "<tf.Tensor: shape=(3,), dtype=float32, numpy=array([1.       , 1.4142135, 1.7320508], dtype=float32)>"
      ]
     },
     "execution_count": 92,
     "metadata": {},
     "output_type": "execute_result"
    }
   ],
   "source": [
    "tf.sqrt(tf.cast(a, dtype=tf.float32)) # значения вектора предварительно преобразуются в вещественный тип"
   ]
  },
  {
   "cell_type": "markdown",
   "id": "923fdea9",
   "metadata": {},
   "source": [
    "#### Тригонометрические функции: tf.sin tf.cos и т.д."
   ]
  },
  {
   "cell_type": "code",
   "execution_count": 98,
   "id": "f99056d2",
   "metadata": {},
   "outputs": [
    {
     "data": {
      "text/plain": [
       "<tf.Tensor: shape=(7,), dtype=float32, numpy=\n",
       "array([-0.00159255, -0.84233034, -0.90863353, -0.13954322,  0.7578425 ,\n",
       "        0.9584713 ,  0.27788603], dtype=float32)>"
      ]
     },
     "execution_count": 98,
     "metadata": {},
     "output_type": "execute_result"
    }
   ],
   "source": [
    "tf.sin(tf.range(-3.14, 3.14, 1)) #аргумент должен состоять из вещественных или комплексных чисел"
   ]
  },
  {
   "cell_type": "code",
   "execution_count": 99,
   "id": "5fb29730",
   "metadata": {},
   "outputs": [
    {
     "data": {
      "text/plain": [
       "<tf.Tensor: shape=(), dtype=float32, numpy=0.87758255>"
      ]
     },
     "execution_count": 99,
     "metadata": {},
     "output_type": "execute_result"
    }
   ],
   "source": [
    "tf.cos(0.5)"
   ]
  },
  {
   "cell_type": "code",
   "execution_count": 104,
   "id": "ccd2eb30",
   "metadata": {},
   "outputs": [
    {
     "data": {
      "text/plain": [
       "(<tf.Tensor: shape=(3, 3), dtype=int32, numpy=\n",
       " array([[1, 2, 3],\n",
       "        [4, 5, 6],\n",
       "        [7, 8, 9]])>,\n",
       " <tf.Tensor: shape=(3, 3), dtype=int32, numpy=\n",
       " array([[1, 0, 0],\n",
       "        [0, 1, 0],\n",
       "        [0, 0, 1]])>)"
      ]
     },
     "execution_count": 104,
     "metadata": {},
     "output_type": "execute_result"
    }
   ],
   "source": [
    "aa = tf.constant(tf.range(1, 10), shape=(3, 3))\n",
    "bb = tf.eye(3, dtype=tf.int32)\n",
    "aa, bb"
   ]
  },
  {
   "cell_type": "code",
   "execution_count": null,
   "id": "c953dae8",
   "metadata": {},
   "outputs": [],
   "source": []
  }
 ],
 "metadata": {
  "kernelspec": {
   "display_name": "Python 3 (ipykernel)",
   "language": "python",
   "name": "python3"
  },
  "language_info": {
   "codemirror_mode": {
    "name": "ipython",
    "version": 3
   },
   "file_extension": ".py",
   "mimetype": "text/x-python",
   "name": "python",
   "nbconvert_exporter": "python",
   "pygments_lexer": "ipython3",
   "version": "3.8.3"
  }
 },
 "nbformat": 4,
 "nbformat_minor": 5
}
