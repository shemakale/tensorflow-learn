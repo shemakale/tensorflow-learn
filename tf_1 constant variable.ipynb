{
 "cells": [
  {
   "cell_type": "markdown",
   "id": "e446e8b1",
   "metadata": {},
   "source": [
    "### Константы и переменные в tensorflow"
   ]
  },
  {
   "cell_type": "code",
   "execution_count": 9,
   "id": "8ad42832",
   "metadata": {},
   "outputs": [],
   "source": [
    "import tensorflow as tf\n",
    "import numpy as np"
   ]
  },
  {
   "cell_type": "markdown",
   "id": "c3209a00",
   "metadata": {},
   "source": [
    "В тензорфлоу всё построено на тензорах - многомерных матрицах. Однако тензором может быть и простое число, и вектор."
   ]
  },
  {
   "cell_type": "markdown",
   "id": "2e2f2d8f",
   "metadata": {},
   "source": [
    "#### Константы (tf.constant). Их изменять нельзя"
   ]
  },
  {
   "cell_type": "code",
   "execution_count": 3,
   "id": "ad7cde1f",
   "metadata": {},
   "outputs": [
    {
     "name": "stdout",
     "output_type": "stream",
     "text": [
      "tf.Tensor(2, shape=(), dtype=int32)\n"
     ]
    }
   ],
   "source": [
    "a = tf.constant(2)\n",
    "print(a)"
   ]
  },
  {
   "cell_type": "code",
   "execution_count": 5,
   "id": "a05493e9",
   "metadata": {},
   "outputs": [
    {
     "name": "stdout",
     "output_type": "stream",
     "text": [
      "tf.Tensor([[2]], shape=(1, 1), dtype=int32)\n"
     ]
    }
   ],
   "source": [
    "a = tf.constant(2, shape=(1, 1))\n",
    "print(a)"
   ]
  },
  {
   "cell_type": "code",
   "execution_count": 6,
   "id": "7d34236d",
   "metadata": {},
   "outputs": [
    {
     "name": "stdout",
     "output_type": "stream",
     "text": [
      "tf.Tensor([1 2 3 4], shape=(4,), dtype=int32)\n"
     ]
    }
   ],
   "source": [
    "b = tf.constant([1, 2, 3, 4])\n",
    "print(b)"
   ]
  },
  {
   "cell_type": "code",
   "execution_count": 7,
   "id": "b528c38b",
   "metadata": {},
   "outputs": [
    {
     "name": "stdout",
     "output_type": "stream",
     "text": [
      "tf.Tensor(\n",
      "[[1. 2.]\n",
      " [3. 4.]\n",
      " [5. 6.]], shape=(3, 2), dtype=float16)\n"
     ]
    }
   ],
   "source": [
    "c = tf.constant([[1, 2],\n",
    "                [3, 4],\n",
    "                [5, 6]], dtype=tf.float16)\n",
    "print(c)"
   ]
  },
  {
   "cell_type": "markdown",
   "id": "1968ac25",
   "metadata": {},
   "source": [
    "Изменить тип данных тензора - tf.cast"
   ]
  },
  {
   "cell_type": "code",
   "execution_count": 8,
   "id": "85d6a99c",
   "metadata": {},
   "outputs": [
    {
     "name": "stdout",
     "output_type": "stream",
     "text": [
      "tf.Tensor([[2.]], shape=(1, 1), dtype=float32)\n"
     ]
    }
   ],
   "source": [
    "a2 = tf.cast(a, dtype=tf.float32)\n",
    "print(a2)"
   ]
  },
  {
   "cell_type": "markdown",
   "id": "549757dd",
   "metadata": {},
   "source": [
    "#### Переменные (tf.Variable). Их значения можно менять"
   ]
  },
  {
   "cell_type": "code",
   "execution_count": 17,
   "id": "f15c2016",
   "metadata": {},
   "outputs": [
    {
     "name": "stdout",
     "output_type": "stream",
     "text": [
      "<tf.Variable 'Variable:0' shape=() dtype=float32, numpy=-1.2>\n",
      "<tf.Variable 'Variable:0' shape=(3,) dtype=float16, numpy=array([2., 3., 4.], dtype=float16)>\n",
      "<tf.Variable 'Variable:0' shape=(4,) dtype=int32, numpy=array([1, 2, 3, 4])>\n"
     ]
    }
   ],
   "source": [
    "v1 = tf.Variable(-1.2)\n",
    "v2 = tf.Variable([2, 3, 4], dtype=tf.float16)\n",
    "v3 = tf.Variable(b)\n",
    "print(v1, v2, v3, sep='\\n')"
   ]
  },
  {
   "cell_type": "markdown",
   "id": "eb57c030",
   "metadata": {},
   "source": [
    "Метод assign позволяет задавать новое значение для тензора. assign_add - складывает значения, assign_sub - вычитает значенияиз значений тензора."
   ]
  },
  {
   "cell_type": "code",
   "execution_count": 18,
   "id": "daccfcde",
   "metadata": {},
   "outputs": [
    {
     "name": "stdout",
     "output_type": "stream",
     "text": [
      "<tf.Variable 'Variable:0' shape=() dtype=float32, numpy=3.0>\n",
      "<tf.Variable 'Variable:0' shape=(3,) dtype=float16, numpy=array([3., 4., 5.], dtype=float16)>\n",
      "<tf.Variable 'Variable:0' shape=(4,) dtype=int32, numpy=array([0, 1, 2, 3])>\n"
     ]
    }
   ],
   "source": [
    "v1.assign(3)\n",
    "v2.assign_add([1, 1, 1])\n",
    "v3.assign_sub([1, 1, 1, 1])\n",
    "print(v1, v2, v3, sep='\\n')"
   ]
  },
  {
   "cell_type": "markdown",
   "id": "4c515d0b",
   "metadata": {},
   "source": [
    "assign применять предпочтительнее, чем задавать новый тензор с тем же именем"
   ]
  },
  {
   "cell_type": "markdown",
   "id": "3604107e",
   "metadata": {},
   "source": [
    "Посмотреть размерность массива"
   ]
  },
  {
   "cell_type": "code",
   "execution_count": 19,
   "id": "279a3377",
   "metadata": {},
   "outputs": [
    {
     "data": {
      "text/plain": [
       "TensorShape([4])"
      ]
     },
     "execution_count": 19,
     "metadata": {},
     "output_type": "execute_result"
    }
   ],
   "source": [
    "v3.shape"
   ]
  },
  {
   "cell_type": "markdown",
   "id": "b375d177",
   "metadata": {},
   "source": [
    "#### Индексы и срезы"
   ]
  },
  {
   "cell_type": "markdown",
   "id": "b112856d",
   "metadata": {},
   "source": [
    "Аналогично numpy"
   ]
  },
  {
   "cell_type": "code",
   "execution_count": 21,
   "id": "080be978",
   "metadata": {},
   "outputs": [
    {
     "name": "stdout",
     "output_type": "stream",
     "text": [
      "<tf.Variable 'Variable:0' shape=(4,) dtype=int32, numpy=array([0, 1, 2, 3])>\n",
      "tf.Tensor(0, shape=(), dtype=int32)\n",
      "tf.Tensor([1 2], shape=(2,), dtype=int32)\n"
     ]
    }
   ],
   "source": [
    "val_0 = v3[0]\n",
    "val_12 = v3[1:3]\n",
    "print(v3, val_0, val_12, sep='\\n')"
   ]
  },
  {
   "cell_type": "markdown",
   "id": "ea52bf38",
   "metadata": {},
   "source": [
    "Важно знать, что переменные val_0 val_12 являются лишь ссылками на соответствующие элементы в массиве. Их изменить нельзя, но через них можно изменить элементы массива"
   ]
  },
  {
   "cell_type": "code",
   "execution_count": 25,
   "id": "3aa0792e",
   "metadata": {},
   "outputs": [
    {
     "name": "stdout",
     "output_type": "stream",
     "text": [
      "tf.Tensor(0, shape=(), dtype=int32)\n",
      "<tf.Variable 'Variable:0' shape=(4,) dtype=int32, numpy=array([10,  1,  2,  3])>\n"
     ]
    }
   ],
   "source": [
    "val_0.assign(10)\n",
    "print(val_0, v3, sep='\\n')"
   ]
  },
  {
   "cell_type": "markdown",
   "id": "5fc90b1c",
   "metadata": {},
   "source": [
    "Выборка отдельных элементов массива (tf.gather)"
   ]
  },
  {
   "cell_type": "code",
   "execution_count": 26,
   "id": "03a612b3",
   "metadata": {},
   "outputs": [
    {
     "name": "stdout",
     "output_type": "stream",
     "text": [
      "tf.Tensor([ 5  6  7  8  9 10 11 12 13 14], shape=(10,), dtype=int32)\n"
     ]
    }
   ],
   "source": [
    "x = tf.constant(range(10)) + 5\n",
    "print(x)"
   ]
  },
  {
   "cell_type": "code",
   "execution_count": 38,
   "id": "dd8b6582",
   "metadata": {},
   "outputs": [
    {
     "data": {
      "text/plain": [
       "<tf.Tensor: shape=(2,), dtype=int32, numpy=array([7, 9])>"
      ]
     },
     "execution_count": 38,
     "metadata": {},
     "output_type": "execute_result"
    }
   ],
   "source": [
    "tf.gather(x, [2, 4])"
   ]
  },
  {
   "cell_type": "markdown",
   "id": "0a300c52",
   "metadata": {},
   "source": [
    "Для матриц индексирование аналогично тому, как это делается в numpy"
   ]
  },
  {
   "cell_type": "code",
   "execution_count": 52,
   "id": "396b04ab",
   "metadata": {},
   "outputs": [
    {
     "data": {
      "text/plain": [
       "6"
      ]
     },
     "execution_count": 52,
     "metadata": {},
     "output_type": "execute_result"
    }
   ],
   "source": [
    "a = tf.constant([[1, 2, 3],\n",
    "                [4, 5, 6],\n",
    "                [7, 8, 9]])\n",
    "a[1, 2].numpy()"
   ]
  },
  {
   "cell_type": "code",
   "execution_count": 54,
   "id": "44fc991b",
   "metadata": {},
   "outputs": [
    {
     "data": {
      "text/plain": [
       "array([1, 2, 3])"
      ]
     },
     "execution_count": 54,
     "metadata": {},
     "output_type": "execute_result"
    }
   ],
   "source": [
    "a[0].numpy()"
   ]
  },
  {
   "cell_type": "code",
   "execution_count": 55,
   "id": "0cfb6a5e",
   "metadata": {},
   "outputs": [
    {
     "data": {
      "text/plain": [
       "array([3, 6, 9])"
      ]
     },
     "execution_count": 55,
     "metadata": {},
     "output_type": "execute_result"
    }
   ],
   "source": [
    "a[:, 2].numpy()"
   ]
  },
  {
   "cell_type": "markdown",
   "id": "40b91588",
   "metadata": {},
   "source": [
    "#### Преобразовать размерность матрицы (tf.reshape)"
   ]
  },
  {
   "cell_type": "code",
   "execution_count": 50,
   "id": "26576286",
   "metadata": {},
   "outputs": [
    {
     "data": {
      "text/plain": [
       "<tf.Tensor: shape=(9,), dtype=int32, numpy=array([1, 2, 3, 4, 5, 6, 7, 8, 9])>"
      ]
     },
     "execution_count": 50,
     "metadata": {},
     "output_type": "execute_result"
    }
   ],
   "source": [
    "tf.reshape(a, [9])"
   ]
  },
  {
   "cell_type": "markdown",
   "id": "49c1d53f",
   "metadata": {},
   "source": [
    "#### Транспонировать матрицу (tf.transpose)"
   ]
  },
  {
   "cell_type": "code",
   "execution_count": 59,
   "id": "3f59ae55",
   "metadata": {},
   "outputs": [
    {
     "name": "stdout",
     "output_type": "stream",
     "text": [
      "tf.Tensor(\n",
      "[[1 2 3]\n",
      " [4 5 6]\n",
      " [7 8 9]], shape=(3, 3), dtype=int32)\n",
      "\n",
      "tf.Tensor(\n",
      "[[1 4 7]\n",
      " [2 5 8]\n",
      " [3 6 9]], shape=(3, 3), dtype=int32)\n"
     ]
    }
   ],
   "source": [
    "a_T = tf.transpose(a, perm=[1, 0])\n",
    "print(a, a_T, sep='\\n\\n')"
   ]
  },
  {
   "cell_type": "code",
   "execution_count": null,
   "id": "1ca5fbae",
   "metadata": {},
   "outputs": [],
   "source": []
  }
 ],
 "metadata": {
  "kernelspec": {
   "display_name": "Python 3 (ipykernel)",
   "language": "python",
   "name": "python3"
  },
  "language_info": {
   "codemirror_mode": {
    "name": "ipython",
    "version": 3
   },
   "file_extension": ".py",
   "mimetype": "text/x-python",
   "name": "python",
   "nbconvert_exporter": "python",
   "pygments_lexer": "ipython3",
   "version": "3.8.3"
  }
 },
 "nbformat": 4,
 "nbformat_minor": 5
}
